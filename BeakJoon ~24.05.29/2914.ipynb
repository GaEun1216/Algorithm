{
 "cells": [
  {
   "cell_type": "code",
   "execution_count": 2,
   "id": "fc8750d6",
   "metadata": {},
   "outputs": [
    {
     "name": "stdout",
     "output_type": "stream",
     "text": [
      "10 10\n",
      "91\n"
     ]
    }
   ],
   "source": [
    "n,m = map(int,input().split())\n",
    "if n > 1:\n",
    "    print(n*(m-1)+1)\n",
    "else:\n",
    "    print(n*m)"
   ]
  },
  {
   "cell_type": "code",
   "execution_count": null,
   "id": "eedaed08",
   "metadata": {},
   "outputs": [],
   "source": []
  }
 ],
 "metadata": {
  "kernelspec": {
   "display_name": "Python 3 (ipykernel)",
   "language": "python",
   "name": "python3"
  },
  "language_info": {
   "codemirror_mode": {
    "name": "ipython",
    "version": 3
   },
   "file_extension": ".py",
   "mimetype": "text/x-python",
   "name": "python",
   "nbconvert_exporter": "python",
   "pygments_lexer": "ipython3",
   "version": "3.9.7"
  }
 },
 "nbformat": 4,
 "nbformat_minor": 5
}

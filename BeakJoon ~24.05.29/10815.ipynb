{
 "cells": [
  {
   "cell_type": "code",
   "execution_count": 8,
   "id": "57e38c4c",
   "metadata": {},
   "outputs": [
    {
     "name": "stdout",
     "output_type": "stream",
     "text": [
      "5\n",
      "6 3 2 10 -10\n",
      "8\n",
      "10 9 -5 2 3 4 5 -10\n",
      "10011001"
     ]
    }
   ],
   "source": [
    "n = int(input())\n",
    "a = list(map(int,input().split()))\n",
    "m = int(input())\n",
    "b = list(map(int,input().split()))\n",
    "ddic={}\n",
    "\n",
    "for i in range(n):\n",
    "    ddic[a[i]]=0\n",
    "    \n",
    "for j in range(m):\n",
    "    if b[j] not in ddic:\n",
    "        print(0,end=' ')\n",
    "    else:\n",
    "        print(1,end=' ')"
   ]
  },
  {
   "cell_type": "code",
   "execution_count": null,
   "id": "3d1704cd",
   "metadata": {},
   "outputs": [],
   "source": []
  }
 ],
 "metadata": {
  "kernelspec": {
   "display_name": "Python 3 (ipykernel)",
   "language": "python",
   "name": "python3"
  },
  "language_info": {
   "codemirror_mode": {
    "name": "ipython",
    "version": 3
   },
   "file_extension": ".py",
   "mimetype": "text/x-python",
   "name": "python",
   "nbconvert_exporter": "python",
   "pygments_lexer": "ipython3",
   "version": "3.9.7"
  }
 },
 "nbformat": 4,
 "nbformat_minor": 5
}

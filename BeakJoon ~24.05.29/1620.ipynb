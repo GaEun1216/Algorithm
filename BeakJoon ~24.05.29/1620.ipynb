{
 "cells": [
  {
   "cell_type": "code",
   "execution_count": 4,
   "id": "61e72e6c",
   "metadata": {},
   "outputs": [
    {
     "name": "stdout",
     "output_type": "stream",
     "text": [
      "5 2\n",
      "aaaaa\n",
      "bbbbb\n",
      "ddddd\n",
      "ccccc\n",
      "eeee\n",
      "eeee\n",
      "6\n",
      "5\n",
      "ccccc\n"
     ]
    }
   ],
   "source": [
    "n,m = map(int,input().split())\n",
    "\n",
    "dic = []\n",
    "dic.append(0)\n",
    "for i in range (n):\n",
    "    dic.append(input())\n",
    "\n",
    "for j in range(m):\n",
    "    str = input()\n",
    "    if str.isdigit():\n",
    "        print(dic[int(str)+1])\n",
    "    else:\n",
    "        print(dic.index(str)-1)\n",
    "    "
   ]
  },
  {
   "cell_type": "code",
   "execution_count": 13,
   "id": "9036591a",
   "metadata": {},
   "outputs": [
    {
     "name": "stdout",
     "output_type": "stream",
     "text": [
      "3 1\n",
      "qqq\n",
      "1 qqq\n",
      "www\n",
      "2 www\n",
      "eee\n",
      "3 eee\n",
      "3\n",
      "qqq\n"
     ]
    }
   ],
   "source": [
    "import sys\n",
    "\n",
    "\n",
    "n,m = map(int,input().split())\n",
    "\n",
    "dic = {}\n",
    "\n",
    "for i in range (1,n+1):\n",
    "    a = sys.stdin.readline().strip()\n",
    "    dic[i]=a\n",
    "    dic[a]=i\n",
    "\n",
    "for j in range(m):\n",
    "    s = sys.stdin.readline().strip()\n",
    "    if str.isdigit():\n",
    "        print(dic[int(str)])\n",
    "    else:\n",
    "        print(dic[str])\n",
    "    "
   ]
  },
  {
   "cell_type": "code",
   "execution_count": null,
   "id": "e73a129d",
   "metadata": {},
   "outputs": [],
   "source": []
  }
 ],
 "metadata": {
  "kernelspec": {
   "display_name": "Python 3 (ipykernel)",
   "language": "python",
   "name": "python3"
  },
  "language_info": {
   "codemirror_mode": {
    "name": "ipython",
    "version": 3
   },
   "file_extension": ".py",
   "mimetype": "text/x-python",
   "name": "python",
   "nbconvert_exporter": "python",
   "pygments_lexer": "ipython3",
   "version": "3.9.7"
  }
 },
 "nbformat": 4,
 "nbformat_minor": 5
}

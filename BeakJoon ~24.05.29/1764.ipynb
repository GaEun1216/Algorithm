{
 "cells": [
  {
   "cell_type": "code",
   "execution_count": 12,
   "id": "f4ef0cf7",
   "metadata": {},
   "outputs": [
    {
     "name": "stdout",
     "output_type": "stream",
     "text": [
      "3 4\n",
      "ohhenrie\n",
      "charlie\n",
      "baesangwook\n",
      "obama\n",
      "baesangwook\n",
      "ohhenrie\n",
      "clinton\n",
      "2\n",
      "ohhenrie\n",
      "baesangwook\n"
     ]
    }
   ],
   "source": [
    "n,m = map(int,input().split())\n",
    "listen = []\n",
    "see = []\n",
    "for i in range(n):\n",
    "    str1 = input()\n",
    "    listen.append(str1)\n",
    "for i in range(m):\n",
    "    str1 = input()\n",
    "    see.append(str1)\n",
    "    \n",
    "dic = {}\n",
    "for str2 in listen:\n",
    "    if str2 in dic:\n",
    "        dic[str2] += 1\n",
    "    else:\n",
    "        dic[str2] = 1\n",
    "for str2 in see:\n",
    "    if str2 in dic:\n",
    "        dic[str2] += 1\n",
    "        \n",
    "result = [k for k, v in dic.items() if v == 2]\n",
    "result.sort()\n",
    "print(len(result))\n",
    "for i in result:\n",
    "    print(i)"
   ]
  },
  {
   "cell_type": "code",
   "execution_count": 11,
   "id": "5b732891",
   "metadata": {},
   "outputs": [
    {
     "name": "stdout",
     "output_type": "stream",
     "text": [
      "['ohhenrie', 'baesangwook']\n",
      "2\n",
      "ohhenrie\n",
      "baesangwook\n"
     ]
    }
   ],
   "source": [
    "result = [k for k, v in dic.items() if v == 2]\n",
    "print(result)\n",
    "print(len(result))\n",
    "result.sort()\n",
    "for i in result:\n",
    "    print(i)"
   ]
  },
  {
   "cell_type": "code",
   "execution_count": null,
   "id": "ae5a3d46",
   "metadata": {},
   "outputs": [],
   "source": []
  }
 ],
 "metadata": {
  "kernelspec": {
   "display_name": "Python 3 (ipykernel)",
   "language": "python",
   "name": "python3"
  },
  "language_info": {
   "codemirror_mode": {
    "name": "ipython",
    "version": 3
   },
   "file_extension": ".py",
   "mimetype": "text/x-python",
   "name": "python",
   "nbconvert_exporter": "python",
   "pygments_lexer": "ipython3",
   "version": "3.9.7"
  }
 },
 "nbformat": 4,
 "nbformat_minor": 5
}

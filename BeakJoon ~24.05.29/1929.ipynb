{
 "cells": [
  {
   "cell_type": "code",
   "execution_count": null,
   "id": "39de48b1",
   "metadata": {},
   "outputs": [],
   "source": [
    "def prime_(a,n):\n",
    "    sieve = [True]*(n+1)\n",
    "    \n",
    "    m = int(n**0.5)\n",
    "    sieve[1]=False\n",
    "    for i in range(2,m+1):\n",
    "        if sieve[i] == True:\n",
    "            for j in range(2*i,n+1,i):\n",
    "                sieve[j]=False\n",
    "    return len([i for i in range(a+1,n+1) if sieve[i] == True])\n",
    "\n",
    "while True:\n",
    "    i = int(input())\n",
    "    if i == 0:\n",
    "        break\n",
    "    print(prime_(i,2*i))"
   ]
  },
  {
   "cell_type": "markdown",
   "id": "2b6ae7b6",
   "metadata": {},
   "source": [
    "# n = int(input())\n",
    "\n",
    "def check(x):\n",
    "    for i in range(2,int(x**0.5)+1):\n",
    "        if x%i==0:\n",
    "            return False\n",
    "    return True\n",
    "\n",
    "for i in range(n):\n",
    "    x = int(input())\n",
    "    \n",
    "    while True:\n",
    "        if x < 2:\n",
    "            print('2')\n",
    "            break\n",
    "        elif check(x):\n",
    "            print(x)\n",
    "            break\n",
    "        else:\n",
    "            x+=1\n",
    "            "
   ]
  },
  {
   "cell_type": "code",
   "execution_count": null,
   "id": "36fba3fd",
   "metadata": {},
   "outputs": [],
   "source": []
  }
 ],
 "metadata": {
  "kernelspec": {
   "display_name": "Python 3 (ipykernel)",
   "language": "python",
   "name": "python3"
  },
  "language_info": {
   "codemirror_mode": {
    "name": "ipython",
    "version": 3
   },
   "file_extension": ".py",
   "mimetype": "text/x-python",
   "name": "python",
   "nbconvert_exporter": "python",
   "pygments_lexer": "ipython3",
   "version": "3.9.7"
  }
 },
 "nbformat": 4,
 "nbformat_minor": 5
}

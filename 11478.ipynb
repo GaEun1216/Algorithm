{
 "cells": [
  {
   "cell_type": "code",
   "execution_count": 5,
   "id": "36471432",
   "metadata": {},
   "outputs": [
    {
     "name": "stdout",
     "output_type": "stream",
     "text": [
      "ababc\n",
      "a\n",
      "b\n",
      "a\n",
      "b\n",
      "c\n",
      "ab\n",
      "ba\n",
      "ab\n",
      "bc\n",
      "aba\n",
      "bab\n",
      "abc\n",
      "abab\n",
      "babc\n"
     ]
    }
   ],
   "source": [
    "string = input()\n",
    "\n",
    "for i in range(1,len(string)):\n",
    "    for x in range(len(string)-i+1):\n",
    "        print(string[x:x+i])\n",
    "        "
   ]
  },
  {
   "cell_type": "code",
   "execution_count": null,
   "id": "bef94304",
   "metadata": {},
   "outputs": [],
   "source": []
  }
 ],
 "metadata": {
  "kernelspec": {
   "display_name": "Python 3 (ipykernel)",
   "language": "python",
   "name": "python3"
  },
  "language_info": {
   "codemirror_mode": {
    "name": "ipython",
    "version": 3
   },
   "file_extension": ".py",
   "mimetype": "text/x-python",
   "name": "python",
   "nbconvert_exporter": "python",
   "pygments_lexer": "ipython3",
   "version": "3.9.7"
  }
 },
 "nbformat": 4,
 "nbformat_minor": 5
}

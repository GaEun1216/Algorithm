{
 "cells": [
  {
   "cell_type": "code",
   "execution_count": 3,
   "id": "5f76392c",
   "metadata": {},
   "outputs": [
    {
     "name": "stdout",
     "output_type": "stream",
     "text": [
      "17 40 45\n",
      "6015\n",
      "19 21 0\n"
     ]
    }
   ],
   "source": [
    "'''\n",
    "14 30 0\n",
    "200\n",
    "'''\n",
    "\n",
    "h,m,s = map(int,input().split())\n",
    "key = int(input())%(60*60*24)\n",
    "s += key\n",
    "m += s//60\n",
    "s %= 60\n",
    "h += m//60\n",
    "m %= 60\n",
    "h %= 24 \n",
    "print(h,m,s)"
   ]
  },
  {
   "cell_type": "code",
   "execution_count": null,
   "id": "2ed3e0ec",
   "metadata": {},
   "outputs": [],
   "source": [
    "17 40 45\n",
    "6015"
   ]
  }
 ],
 "metadata": {
  "kernelspec": {
   "display_name": "Python 3 (ipykernel)",
   "language": "python",
   "name": "python3"
  },
  "language_info": {
   "codemirror_mode": {
    "name": "ipython",
    "version": 3
   },
   "file_extension": ".py",
   "mimetype": "text/x-python",
   "name": "python",
   "nbconvert_exporter": "python",
   "pygments_lexer": "ipython3",
   "version": "3.9.7"
  }
 },
 "nbformat": 4,
 "nbformat_minor": 5
}

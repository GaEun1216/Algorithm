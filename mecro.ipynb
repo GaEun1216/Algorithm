{
 "cells": [
  {
   "cell_type": "code",
   "execution_count": null,
   "id": "ad05ba67",
   "metadata": {},
   "outputs": [],
   "source": [
    "import keyboard\n",
    "import subprocess\n",
    "\n",
    "def run_cmd():\n",
    "    cmd = \"cd C:/Users/gani6/OneDrive/documents/자격증/빅분기/code\"\n",
    "    cmd_ = \"jupyter notebook\"\n",
    "    \n",
    "    try: # 성공시\n",
    "        subprocess.run(cmd,shell=True,capture_output=True,text=True)\n",
    "        subprocess.run(cmd_,shell=True,capture_output=True,text=True)\n",
    "        break\n",
    "    except Exception as e:\n",
    "        print(\"Error:\",e)\n",
    "        \n",
    "run_cmd()\n",
    "        "
   ]
  },
  {
   "cell_type": "code",
   "execution_count": null,
   "id": "9836e7eb",
   "metadata": {},
   "outputs": [],
   "source": []
  }
 ],
 "metadata": {
  "kernelspec": {
   "display_name": "Python 3 (ipykernel)",
   "language": "python",
   "name": "python3"
  },
  "language_info": {
   "codemirror_mode": {
    "name": "ipython",
    "version": 3
   },
   "file_extension": ".py",
   "mimetype": "text/x-python",
   "name": "python",
   "nbconvert_exporter": "python",
   "pygments_lexer": "ipython3",
   "version": "3.9.7"
  }
 },
 "nbformat": 4,
 "nbformat_minor": 5
}

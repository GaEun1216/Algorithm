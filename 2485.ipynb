{
 "cells": [
  {
   "cell_type": "code",
   "execution_count": 9,
   "id": "93c62d5c",
   "metadata": {},
   "outputs": [
    {
     "name": "stdout",
     "output_type": "stream",
     "text": [
      "4\n",
      "1\n",
      "3\n",
      "7\n",
      "13\n",
      "3\n"
     ]
    }
   ],
   "source": [
    "def gcc(x,y):\n",
    "    a = max(x,y)\n",
    "    b = min(x,y)\n",
    "    while x%y != 0:\n",
    "        tmp = x%y\n",
    "        x = y\n",
    "        y = tmp\n",
    "    return y\n",
    "\n",
    "\n",
    "arr = [] # 가로수 좌표\n",
    "brr = [] #  가로수 사이의 거리\n",
    "n =  int(input())\n",
    "for i in range(n):\n",
    "    arr.append(int(input()))\n",
    "    if i > 0:\n",
    "        brr.append(arr[i]-arr[i-1])\n",
    "key = brr[0]\n",
    "for i in brr: # 거리 간의 최대 공약수 구하기\n",
    "    key = gcc(key,i)\n",
    "    \n",
    "res = sum(brr)//key - (n-1) # 최대 공약수의 간격만큼 나무를 심어주고 기존의 나무를 지워줌\n",
    "print(res)"
   ]
  },
  {
   "cell_type": "code",
   "execution_count": null,
   "id": "d425fec1",
   "metadata": {},
   "outputs": [],
   "source": [
    "4\n",
    "1\n",
    "3\n",
    "7\n",
    "13\n",
    "\n",
    "4\n",
    "2\n",
    "6\n",
    "12\n",
    "18"
   ]
  }
 ],
 "metadata": {
  "kernelspec": {
   "display_name": "Python 3 (ipykernel)",
   "language": "python",
   "name": "python3"
  },
  "language_info": {
   "codemirror_mode": {
    "name": "ipython",
    "version": 3
   },
   "file_extension": ".py",
   "mimetype": "text/x-python",
   "name": "python",
   "nbconvert_exporter": "python",
   "pygments_lexer": "ipython3",
   "version": "3.9.7"
  }
 },
 "nbformat": 4,
 "nbformat_minor": 5
}

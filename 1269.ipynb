{
 "cells": [
  {
   "cell_type": "code",
   "execution_count": 1,
   "id": "ddde563a",
   "metadata": {},
   "outputs": [
    {
     "name": "stdout",
     "output_type": "stream",
     "text": [
      "3 5 \n",
      "1 2 4\n",
      "2 3 4 5 6\n",
      "6\n"
     ]
    }
   ],
   "source": [
    "# 대칭  차집합\n",
    "n,m = map(int,input().split())\n",
    "listen = [*map(int,input().split())]\n",
    "see = [*map(int,input().split())]\n",
    "    \n",
    "dic = {}\n",
    "for str2 in listen:\n",
    "    if str2 in dic:\n",
    "        dic[str2] += 1\n",
    "    else:\n",
    "        dic[str2] = 1\n",
    "for str2 in see:\n",
    "    if str2 in dic:\n",
    "        dic[str2] += 1\n",
    "    else:\n",
    "        dic[str2] = 1\n",
    "        \n",
    "result = [k for k, v in dic.items() if v == 1]\n",
    "\n",
    "print(len(result))\n"
   ]
  },
  {
   "cell_type": "code",
   "execution_count": null,
   "id": "ec17353a",
   "metadata": {},
   "outputs": [],
   "source": []
  }
 ],
 "metadata": {
  "kernelspec": {
   "display_name": "Python 3 (ipykernel)",
   "language": "python",
   "name": "python3"
  },
  "language_info": {
   "codemirror_mode": {
    "name": "ipython",
    "version": 3
   },
   "file_extension": ".py",
   "mimetype": "text/x-python",
   "name": "python",
   "nbconvert_exporter": "python",
   "pygments_lexer": "ipython3",
   "version": "3.9.7"
  }
 },
 "nbformat": 4,
 "nbformat_minor": 5
}
